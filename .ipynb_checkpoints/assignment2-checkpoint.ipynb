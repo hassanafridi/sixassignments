{
 "cells": [
  {
   "cell_type": "code",
   "execution_count": 2,
   "metadata": {},
   "outputs": [
    {
     "name": "stdout",
     "output_type": "stream",
     "text": [
      "give achieved marks for islamiat51\n",
      "give achieved marks for arabic12\n",
      "give achieved marks for urdu56\n",
      "give achieved marks for maths32\n",
      "give achieved marks for computer11\n",
      "\n",
      "\n",
      "Subject           Marks          Earned\n",
      "\n",
      "Islamiat          50               51\n",
      "Arabic            50               12\n",
      "Urdu              50               56\n",
      "Maths             50               32\n",
      "Computer          50               11\n",
      "\n",
      "\n",
      "                                Total Marks =         250\n",
      "                                Total Earned =        162\n",
      "                                Percentage =          64.8\n",
      "                                Grade =               B\n"
     ]
    }
   ],
   "source": [
    "#using if-else function making fully featured marks sheet\n",
    "\n",
    "isl = int(input(\"give achieved marks for islamiat\"))\n",
    "arabic = int(input(\"give achieved marks for arabic\"))\n",
    "urdu = int(input(\"give achieved marks for urdu\"))\n",
    "maths = int(input(\"give achieved marks for maths\"))\n",
    "computer = int(input(\"give achieved marks for computer\"))\n",
    "print();print()\n",
    "\n",
    "total_earned = (isl + arabic + urdu + maths + computer)\n",
    "total_marks = 250\n",
    "percen = total_earned * 100 / total_marks\n",
    "\n",
    "if percen >= 80 and percen <= 100:\n",
    "    grade = (\"A+\")\n",
    "elif percen >= 70 and percen <= 79:\n",
    "    grade = (\"A\") \n",
    "elif percen >= 60 and percen <= 69:\n",
    "    grade = (\"B\")\n",
    "elif percen >= 50 and percen <= 59:\n",
    "    grade = (\"C\")\n",
    "elif percen >= 0 and percen <= 49:\n",
    "    grade = (\"F\")\n",
    "\n",
    "\n",
    "\n",
    "print (\"Subject\"\"           \"\"Marks\"\"          \"\"Earned\")\n",
    "print()\n",
    "print (\"Islamiat\"\"          \"\"50\"\"              \", isl)\n",
    "print (\"Arabic\"\"            \"\"50\"\"              \", arabic)\n",
    "print (\"Urdu\"\"              \"\"50\"\"              \", urdu)\n",
    "print (\"Maths\"\"             \"\"50\"\"              \", maths)\n",
    "print (\"Computer\"\"          \"\"50\"\"              \", computer)\n",
    "print();print()\n",
    "print (\"                                \"\"Total Marks = \",\"      \",total_marks)\n",
    "print (\"                                \"\"Total Earned = \",\"     \",total_earned)\n",
    "print (\"                                \"\"Percentage = \",\"       \",percen)\n",
    "print (\"                                \"\"Grade = \",\"            \",grade)"
   ]
  },
  {
   "cell_type": "code",
   "execution_count": 3,
   "metadata": {},
   "outputs": [
    {
     "name": "stdout",
     "output_type": "stream",
     "text": [
      "Enter Your Number :2\n",
      "even\n"
     ]
    }
   ],
   "source": [
    "#using if-elif function\n",
    "\n",
    "num = eval(input('Enter Your Number :'))\n",
    "\n",
    "if num % 2 == 0:\n",
    "    \n",
    "    print ('even')\n",
    "    \n",
    "elif num % 2 != 0:\n",
    "    \n",
    "    print ('odd')"
   ]
  },
  {
   "cell_type": "code",
   "execution_count": 7,
   "metadata": {},
   "outputs": [
    {
     "data": {
      "text/plain": [
       "5"
      ]
     },
     "execution_count": 7,
     "metadata": {},
     "output_type": "execute_result"
    }
   ],
   "source": [
    "#using length function\n",
    "\n",
    "list_random = [34,45,22,104,86]\n",
    "\n",
    "len(list_random)"
   ]
  },
  {
   "cell_type": "code",
   "execution_count": 8,
   "metadata": {},
   "outputs": [
    {
     "data": {
      "text/plain": [
       "291"
      ]
     },
     "execution_count": 8,
     "metadata": {},
     "output_type": "execute_result"
    }
   ],
   "source": [
    "#using sum function\n",
    "\n",
    "list_random = [34,45,22,104,86]\n",
    "\n",
    "sum(list_random)"
   ]
  },
  {
   "cell_type": "code",
   "execution_count": 9,
   "metadata": {},
   "outputs": [
    {
     "data": {
      "text/plain": [
       "104"
      ]
     },
     "execution_count": 9,
     "metadata": {},
     "output_type": "execute_result"
    }
   ],
   "source": [
    "#using max function\n",
    "\n",
    "list_random = [34,45,22,104,86]\n",
    "\n",
    "max(list_random)"
   ]
  },
  {
   "cell_type": "code",
   "execution_count": 10,
   "metadata": {},
   "outputs": [
    {
     "name": "stdout",
     "output_type": "stream",
     "text": [
      "[1, 1, 2, 3]\n"
     ]
    }
   ],
   "source": [
    "#using for-if function\n",
    "\n",
    "a = [1, 1, 2, 3, 5, 8, 13, 21, 34, 55, 89]\n",
    "\n",
    "ab = []\n",
    "\n",
    "for elements in a:\n",
    "\n",
    "    if elements < 5:\n",
    "    \n",
    "        ab.append(elements)\n",
    "\n",
    "print(ab)"
   ]
  }
 ],
 "metadata": {
  "file_extension": ".py",
  "kernelspec": {
   "display_name": "Python 3",
   "language": "python",
   "name": "python3"
  },
  "language_info": {
   "codemirror_mode": {
    "name": "ipython",
    "version": 3
   },
   "file_extension": ".py",
   "mimetype": "text/x-python",
   "name": "python",
   "nbconvert_exporter": "python",
   "pygments_lexer": "ipython3",
   "version": "3.7.3"
  },
  "mimetype": "text/x-python",
  "name": "python",
  "npconvert_exporter": "python",
  "pygments_lexer": "ipython3",
  "version": 3
 },
 "nbformat": 4,
 "nbformat_minor": 2
}
