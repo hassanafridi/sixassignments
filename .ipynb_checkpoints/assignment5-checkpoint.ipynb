{
 "cells": [
  {
   "cell_type": "code",
   "execution_count": 1,
   "metadata": {},
   "outputs": [],
   "source": [
    "#################################11111111111111111111111111111111111###################################"
   ]
  },
  {
   "cell_type": "code",
   "execution_count": 2,
   "metadata": {},
   "outputs": [
    {
     "name": "stdout",
     "output_type": "stream",
     "text": [
      "Enter a number to find its factorial 6\n",
      "The factorial value is =  720\n"
     ]
    }
   ],
   "source": [
    "def Factorial_With_Non_Negetive_Integer(value):\n",
    "    if value == 0:\n",
    "        return 1\n",
    "    else:\n",
    "        return value * Factorial_With_Non_Negetive_Integer(value - 1)\n",
    "\n",
    "value = int(input(\"Enter a number to find its factorial \"))\n",
    "\n",
    "print(\"The factorial value is = \", Factorial_With_Non_Negetive_Integer(value))"
   ]
  },
  {
   "cell_type": "code",
   "execution_count": 3,
   "metadata": {},
   "outputs": [],
   "source": [
    "#######################################################################################################"
   ]
  },
  {
   "cell_type": "code",
   "execution_count": 4,
   "metadata": {},
   "outputs": [],
   "source": [
    "###############################22222222222222222222222222222222222#####################################"
   ]
  },
  {
   "cell_type": "code",
   "execution_count": 5,
   "metadata": {},
   "outputs": [
    {
     "name": "stdout",
     "output_type": "stream",
     "text": [
      "Enter any word with mixed upper and lower case values HHJ akjshd \n",
      "Number of lower case letters in Input =  6 \n",
      "Number of upper case letters in Input =  3\n"
     ]
    }
   ],
   "source": [
    "string_value = input(\"Enter any word with mixed upper and lower case values \")\n",
    "\n",
    "value_of_upper = 0\n",
    "value_of_lower = 0\n",
    "\n",
    "#using for loop and predefined function of python which I googled (.islower, .isupper) this checks for character\n",
    "# whether it is upper case or lower case\n",
    "\n",
    "for n in string_value:\n",
    "    if (n.islower()):\n",
    "        value_of_lower = value_of_lower + 1\n",
    "    elif(n.isupper()):\n",
    "            value_of_upper = value_of_upper + 1\n",
    "        \n",
    "print(\"Number of lower case letters in Input = \", value_of_lower, \"\\nNumber of upper case letters in Input = \", value_of_upper)\n"
   ]
  },
  {
   "cell_type": "code",
   "execution_count": 6,
   "metadata": {},
   "outputs": [],
   "source": [
    "#######################################################################################################"
   ]
  },
  {
   "cell_type": "code",
   "execution_count": 7,
   "metadata": {},
   "outputs": [],
   "source": [
    "############################3333333333333333333333333333333333333333333################################"
   ]
  },
  {
   "cell_type": "code",
   "execution_count": 17,
   "metadata": {},
   "outputs": [
    {
     "name": "stdout",
     "output_type": "stream",
     "text": [
      "Even number in the list are  22\n",
      "Even number in the list are  12\n",
      "Even number in the list are  458\n",
      "Even number in the list are  456\n",
      "Even number in the list are  3654\n",
      "Even number in the list are  122\n",
      "Even number in the list are  46\n",
      "Even number in the list are  44\n"
     ]
    }
   ],
   "source": [
    "list_of_numbers = [5, 22, 12, 45, 458 ,456 ,789 ,3654 ,123 ,41569 ,122 ,7897 ,46 ,44]\n",
    "for num in list_of_numbers:\n",
    "    if num % 2 == 0:\n",
    "        print(\"Even number in the list are \", num)"
   ]
  },
  {
   "cell_type": "code",
   "execution_count": 9,
   "metadata": {},
   "outputs": [],
   "source": [
    "#######################################################################################################"
   ]
  },
  {
   "cell_type": "code",
   "execution_count": 10,
   "metadata": {},
   "outputs": [],
   "source": [
    "#######################################################################################################"
   ]
  },
  {
   "cell_type": "code",
   "execution_count": 11,
   "metadata": {},
   "outputs": [],
   "source": [
    "#######################################################################################################"
   ]
  },
  {
   "cell_type": "code",
   "execution_count": 12,
   "metadata": {},
   "outputs": [],
   "source": [
    "#######################################################################################################"
   ]
  }
 ],
 "metadata": {
  "kernelspec": {
   "display_name": "Python 3",
   "language": "python",
   "name": "python3"
  },
  "language_info": {
   "codemirror_mode": {
    "name": "ipython",
    "version": 3
   },
   "file_extension": ".py",
   "mimetype": "text/x-python",
   "name": "python",
   "nbconvert_exporter": "python",
   "pygments_lexer": "ipython3",
   "version": "3.7.3"
  }
 },
 "nbformat": 4,
 "nbformat_minor": 2
}
