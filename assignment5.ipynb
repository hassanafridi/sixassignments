{
 "cells": [
  {
   "cell_type": "code",
   "execution_count": 1,
   "metadata": {},
   "outputs": [],
   "source": [
    "#################################11111111111111111111111111111111111###################################"
   ]
  },
  {
   "cell_type": "code",
   "execution_count": 2,
   "metadata": {},
   "outputs": [
    {
     "name": "stdout",
     "output_type": "stream",
     "text": [
      "Enter a number to find its factorial 6\n",
      "The factorial value is =  720\n"
     ]
    }
   ],
   "source": [
    "def Factorial_With_Non_Negetive_Integer(value):\n",
    "    if value == 0:\n",
    "        return 1\n",
    "    else:\n",
    "        return value * Factorial_With_Non_Negetive_Integer(value - 1)\n",
    "\n",
    "value = int(input(\"Enter a number to find its factorial \"))\n",
    "\n",
    "print(\"The factorial value is = \", Factorial_With_Non_Negetive_Integer(value))"
   ]
  },
  {
   "cell_type": "code",
   "execution_count": 3,
   "metadata": {},
   "outputs": [],
   "source": [
    "#######################################################################################################"
   ]
  },
  {
   "cell_type": "code",
   "execution_count": 4,
   "metadata": {},
   "outputs": [],
   "source": [
    "###############################22222222222222222222222222222222222#####################################"
   ]
  },
  {
   "cell_type": "code",
   "execution_count": 5,
   "metadata": {},
   "outputs": [
    {
     "name": "stdout",
     "output_type": "stream",
     "text": [
      "Enter any word with mixed upper and lower case values HHJ akjshd \n",
      "Number of lower case letters in Input =  6 \n",
      "Number of upper case letters in Input =  3\n"
     ]
    }
   ],
   "source": [
    "string_value = input(\"Enter any word with mixed upper and lower case values \")\n",
    "\n",
    "value_of_upper = 0\n",
    "value_of_lower = 0\n",
    "\n",
    "#using for loop and predefined function of python which I googled (.islower, .isupper) this checks for character\n",
    "# whether it is upper case or lower case\n",
    "\n",
    "for n in string_value:\n",
    "    if (n.islower()):\n",
    "        value_of_lower = value_of_lower + 1\n",
    "    elif(n.isupper()):\n",
    "            value_of_upper = value_of_upper + 1\n",
    "        \n",
    "print(\"Number of lower case letters in Input = \", value_of_lower, \"\\nNumber of upper case letters in Input = \", value_of_upper)\n"
   ]
  },
  {
   "cell_type": "code",
   "execution_count": 6,
   "metadata": {},
   "outputs": [],
   "source": [
    "#######################################################################################################"
   ]
  },
  {
   "cell_type": "code",
   "execution_count": 7,
   "metadata": {},
   "outputs": [],
   "source": [
    "############################3333333333333333333333333333333333333333333################################"
   ]
  },
  {
   "cell_type": "code",
   "execution_count": 17,
   "metadata": {},
   "outputs": [
    {
     "name": "stdout",
     "output_type": "stream",
     "text": [
      "Even number in the list are  22\n",
      "Even number in the list are  12\n",
      "Even number in the list are  458\n",
      "Even number in the list are  456\n",
      "Even number in the list are  3654\n",
      "Even number in the list are  122\n",
      "Even number in the list are  46\n",
      "Even number in the list are  44\n"
     ]
    }
   ],
   "source": [
    "list_of_numbers = [5, 22, 12, 45, 458 ,456 ,789 ,3654 ,123 ,41569 ,122 ,7897 ,46 ,44]\n",
    "for num in list_of_numbers:\n",
    "    if num % 2 == 0:\n",
    "        print(\"Even number in the list are \", num)"
   ]
  },
  {
   "cell_type": "code",
   "execution_count": 9,
   "metadata": {},
   "outputs": [],
   "source": [
    "#######################################################################################################"
   ]
  },
  {
   "cell_type": "code",
   "execution_count": 10,
   "metadata": {},
   "outputs": [],
   "source": [
    "###############################444444444444444444444444444444444444444#################################"
   ]
  },
  {
   "cell_type": "code",
   "execution_count": 31,
   "metadata": {},
   "outputs": [
    {
     "name": "stdout",
     "output_type": "stream",
     "text": [
      "Enter any word: nenen\n",
      "nenen is a Palindrome word\n"
     ]
    }
   ],
   "source": [
    "#making a function so that we could find the palindrome word\n",
    "\n",
    "def Palindrome(word):\n",
    "    \n",
    "    oneword = []\n",
    "    secondword = []\n",
    "    \n",
    "    if len(word) % 2 == 1:\n",
    "        oddList = (len(word) // 2)\n",
    "        for element in range(oddList):\n",
    "            oneword.append(word[element])\n",
    "        for element in range(-1, -(len(word)-oddList), -1):\n",
    "            secondword.append(word[element])\n",
    "    else:\n",
    "        print(\"Not palindrome Word\")\n",
    "    palindrome = False\n",
    "    \n",
    "    for element in range(len(oneword)):\n",
    "        if oneword[element] == secondword[element]:\n",
    "            palindrome = True\n",
    "    \n",
    "    if palindrome == True:\n",
    "        print(\"{} is a Palindrome word\".format(word))\n",
    "    else:\n",
    "        print(\"This word is not a palindrome\")\n",
    "\n",
    "\n",
    "word = input(\"Enter any word: \")\n",
    "Palindrome(word)\n"
   ]
  },
  {
   "cell_type": "code",
   "execution_count": 11,
   "metadata": {},
   "outputs": [],
   "source": [
    "#######################################################################################################"
   ]
  },
  {
   "cell_type": "code",
   "execution_count": 12,
   "metadata": {},
   "outputs": [],
   "source": [
    "#############################55555555555555555555555555555555555555555#################################"
   ]
  },
  {
   "cell_type": "code",
   "execution_count": 29,
   "metadata": {},
   "outputs": [
    {
     "name": "stdout",
     "output_type": "stream",
     "text": [
      "Give number to determine it is prime or non prime number7\n",
      "7 it is a prime number \n"
     ]
    }
   ],
   "source": [
    "#checking if number is prime or not\n",
    "prime = int(input(\"Give number to determine it is prime or non prime number\"));\n",
    "def ifPrime(prime):\n",
    "    if prime > 1:\n",
    "        \n",
    "        \n",
    "        for i in range(2, prime // 2):\n",
    "            if(prime % i) == 0:\n",
    "                print(prime, \" it is not a prime number \");\n",
    "                break;\n",
    "            else:\n",
    "                print(prime, \"it is a prime number \");\n",
    "    \n",
    "    \n",
    "    else:\n",
    "        print(prime, \"it is not a prime number\");\n",
    "\n",
    "\n",
    "        \n",
    "        \n",
    "ifPrime(prime);"
   ]
  },
  {
   "cell_type": "code",
   "execution_count": null,
   "metadata": {},
   "outputs": [],
   "source": [
    "#######################################################################################################"
   ]
  },
  {
   "cell_type": "code",
   "execution_count": null,
   "metadata": {},
   "outputs": [],
   "source": [
    "##############################66666666666666666666666666666666666666###################################"
   ]
  },
  {
   "cell_type": "code",
   "execution_count": 37,
   "metadata": {},
   "outputs": [
    {
     "name": "stdout",
     "output_type": "stream",
     "text": [
      "Enter Shopping your items (if you want result type exit)hj\n",
      "Enter Shopping your items (if you want result type exit)jh g\n",
      "Enter Shopping your items (if you want result type exit)ndms hkfdsj\n",
      "Enter Shopping your items (if you want result type exit) fasdlhfj\n",
      "Enter Shopping your items (if you want result type exit) asdkjf\n",
      "Enter Shopping your items (if you want result type exit)exit\n",
      "Congratulations you purchased: hj\n",
      "Congratulations you purchased: jh g\n",
      "Congratulations you purchased: ndms hkfdsj\n",
      "Congratulations you purchased:  fasdlhfj\n",
      "Congratulations you purchased:  asdkjf\n"
     ]
    }
   ],
   "source": [
    "#making shopping list some like todo app with less function\n",
    "\n",
    "def shopping_list(*items):\n",
    "    shopping_items = []\n",
    "    while True:\n",
    "        item = input(\"Enter Shopping your items (if you want result type exit)\")\n",
    "        if item != \"exit\":\n",
    "            shopping_items.append(item)\n",
    "        else:\n",
    "            break\n",
    "    for item in range(len(shopping_items)):\n",
    "        print(\"Congratulations you purchased: {}\".format(shopping_items[item]))\n",
    "shopping_list()\n"
   ]
  },
  {
   "cell_type": "code",
   "execution_count": null,
   "metadata": {},
   "outputs": [],
   "source": [
    "#######################################################################################################"
   ]
  }
 ],
 "metadata": {
  "kernelspec": {
   "display_name": "Python 3",
   "language": "python",
   "name": "python3"
  },
  "language_info": {
   "codemirror_mode": {
    "name": "ipython",
    "version": 3
   },
   "file_extension": ".py",
   "mimetype": "text/x-python",
   "name": "python",
   "nbconvert_exporter": "python",
   "pygments_lexer": "ipython3",
   "version": "3.7.3"
  }
 },
 "nbformat": 4,
 "nbformat_minor": 2
}
