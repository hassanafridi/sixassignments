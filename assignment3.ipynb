{
 "cells": [
  {
   "cell_type": "code",
   "execution_count": 13,
   "metadata": {},
   "outputs": [
    {
     "name": "stdout",
     "output_type": "stream",
     "text": [
      "Select operation.\n",
      "1.Add\n",
      "2.Subtract\n",
      "3.Divide\n",
      "4.Multiply\n",
      "5.Power\n",
      "Enter your choice(1/2/3/4/5)6\n",
      "Enter First Number:  456\n",
      "Enter Second Number:  46\n",
      "invalid input\n"
     ]
    }
   ],
   "source": [
    "'''Calculator for addition , subtraction , multiplication ,\n",
    "division and power.'''\n",
    "\n",
    "def add(x, y):\n",
    "    return x + y\n",
    "def minus(x, y):\n",
    "    return x - y\n",
    "def divide(x, y):\n",
    "    return x / y\n",
    "def multiply(x, y):\n",
    "    return x * y\n",
    "def exponent(x, y):\n",
    "    return x ** y\n",
    "print(\"Select operation.\")\n",
    "print(\"1.Add\")\n",
    "print(\"2.Subtract\")\n",
    "print(\"3.Divide\")\n",
    "print(\"4.Multiply\")\n",
    "print(\"5.Power\")\n",
    "choice = input(\"Enter your choice(1/2/3/4/5)\")\n",
    "num1 = float(input(\"Enter First Number:  \"))\n",
    "num2 = float(input(\"Enter Second Number:  \"))\n",
    "\n",
    "if choice == '1':\n",
    "    print(num1, \"+\", num2, \"=\", add(num1, num2))\n",
    "\n",
    "elif choice == '2':\n",
    "    print(num1, \"-\", num2, \"=\", minus(num1, num2))\n",
    "\n",
    "elif choice == '3':\n",
    "    print(num1, \"/\", num2, \"=\", divide(num1, num2))\n",
    "\n",
    "elif choice == '4':\n",
    "    print(num1, \"*\", num2, \"=\", multiply(num1, num2))\n",
    "\n",
    "elif choice == '5':\n",
    "    print(num1, \"^\", num2, \"=\", exponent(num1, num2))\n",
    "else:\n",
    "    print(\"invalid input\")\n",
    "\n"
   ]
  },
  {
   "cell_type": "code",
   "execution_count": 8,
   "metadata": {},
   "outputs": [
    {
     "name": "stdout",
     "output_type": "stream",
     "text": [
      "Checking if intiger exists in list ( using loop ) : \n",
      "Numeric value exist\n"
     ]
    }
   ],
   "source": [
    "#Write a program to check if there is any numeric value in list using for loop\n",
    "\n",
    "list = [ 1, 6, \"valve\", 5, 3, \"poem\", \"tower\"] \n",
    "  \n",
    "print(\"Checking if intiger exists in list ( using loop ) : \") \n",
    "  \n",
    "# Checking if numeric value exists in list  \n",
    "# using loop\n",
    "\n",
    "for i in list: \n",
    "    if(i == 5) :       # checking if numeric value exist\n",
    "        print (\"Numeric value exist\") \n",
    "  \n"
   ]
  },
  {
   "cell_type": "code",
   "execution_count": 1,
   "metadata": {},
   "outputs": [
    {
     "name": "stdout",
     "output_type": "stream",
     "text": [
      "{1: 'python', 2: 'for'}\n",
      "Current Dict is:  {'key1': 'python', 'key2': 'for'}\n",
      "Updated Dict is:  {'key1': 'python', 'key2': 'for', 'key3': 'everybody'}\n"
     ]
    }
   ],
   "source": [
    "#Write a Python script to add a key to a dictionary\n",
    "\n",
    "class dictionary(dict): \n",
    "  \n",
    "    # __init__ function \n",
    "    def __init__(me): \n",
    "        me = dict() \n",
    "          \n",
    "    # Function to add key:value \n",
    "    def add(me, key, value): \n",
    "        me[key] = value \n",
    "  \n",
    "    # Main Function \n",
    "dict_obj = dictionary() \n",
    "  \n",
    "dict_obj.add(1, 'python') \n",
    "dict_obj.add(2, 'for') \n",
    "  \n",
    "print(dict_obj) \n",
    "\n",
    "dict = {'key1':'python', 'key2':'for'} \n",
    "print(\"Current Dict is: \", dict) \n",
    "  \n",
    "# using the subscript notation \n",
    "# Dictionary_Name[New_Key_Name] = New_Key_Value \n",
    "dict['key2'] = 'for'\n",
    "dict['key3'] = 'everybody'\n",
    "print(\"Updated Dict is: \", dict) \n"
   ]
  },
  {
   "cell_type": "code",
   "execution_count": 3,
   "metadata": {},
   "outputs": [
    {
     "name": "stdout",
     "output_type": "stream",
     "text": [
      "Sum : 1500\n"
     ]
    }
   ],
   "source": [
    "#Write a Python program to sum all the numeric items in a dictionary\n",
    "# using inbuilt sum() function\n",
    "\n",
    "def returnSum(myDict): \n",
    "      \n",
    "    sum = 0\n",
    "    for i in myDict: \n",
    "        sum = sum + myDict[i] \n",
    "      \n",
    "    return sum\n",
    "  \n",
    "dict = {'a': 100, 'b':200, 'c':300, 'd' :500, 'e' :400} \n",
    "print(\"Sum :\", returnSum(dict)) "
   ]
  },
  {
   "cell_type": "code",
   "execution_count": 8,
   "metadata": {},
   "outputs": [
    {
     "name": "stdout",
     "output_type": "stream",
     "text": [
      "[7, 44, 65, -22, -77]\n"
     ]
    }
   ],
   "source": [
    "#Write a program to identify duplicate values from list\n",
    "# by defining a new function\n",
    "\n",
    "def Repeat(x): \n",
    "    _size = len(x) \n",
    "    repeated = [] \n",
    "    for i in range(_size): \n",
    "        k = i + 1\n",
    "        for j in range(k, _size): \n",
    "            if x[i] == x[j] and x[i] not in repeated: \n",
    "                repeated.append(x[i]) \n",
    "    return repeated \n",
    "  \n",
    "\n",
    "list1 = [7, 8, 44, 65, 55, 1,-22, -77, 7, 11, 22 ,44, 65, 88 , -22, -77, 98] #if there are dublicate value it willbe printed\n",
    "print (Repeat(list1)) "
   ]
  },
  {
   "cell_type": "code",
   "execution_count": 11,
   "metadata": {},
   "outputs": [
    {
     "name": "stdout",
     "output_type": "stream",
     "text": [
      "Key is Present,  value is = 75\n",
      "Key not present\n"
     ]
    }
   ],
   "source": [
    "#Write a Python script to check if a given key already exists in a dictionary\n",
    "# using new function and some predefined functions\n",
    "\n",
    "def checkKey(dict, key): \n",
    "      \n",
    "    if key in dict.keys(): \n",
    "        print(\"Key is Present, \", end =\" \") \n",
    "        print(\"value is =\", dict[key]) \n",
    "    else: \n",
    "        print(\"Key not present\") \n",
    "  \n",
    "dict = {'a':75, 'b':145, 'c':210} \n",
    "  \n",
    "key = 'a'\n",
    "checkKey(dict, key) \n",
    "  \n",
    "key = 'w'\n",
    "checkKey(dict, key) "
   ]
  }
 ],
 "metadata": {
  "kernelspec": {
   "display_name": "Python 3",
   "language": "python",
   "name": "python3"
  },
  "language_info": {
   "codemirror_mode": {
    "name": "ipython",
    "version": 3
   },
   "file_extension": ".py",
   "mimetype": "text/x-python",
   "name": "python",
   "nbconvert_exporter": "python",
   "pygments_lexer": "ipython3",
   "version": "3.7.3"
  }
 },
 "nbformat": 4,
 "nbformat_minor": 2
}
