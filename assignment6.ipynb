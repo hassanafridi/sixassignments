{
 "cells": [
  {
   "cell_type": "code",
   "execution_count": 1,
   "metadata": {},
   "outputs": [],
   "source": [
    "##############################11111111111111111111111111111111111111111111##################################"
   ]
  },
  {
   "cell_type": "code",
   "execution_count": 2,
   "metadata": {},
   "outputs": [
    {
     "data": {
      "text/plain": [
       "' Object Oriented Programming is the latest programming paradigm. Which is a category to differentiate between\\nprogramming languages and it is the most effected way to do that. The programmer need to describe both the \\ndata structures and the types of operations applied to those data structures. This piece of data with operations\\nis known as object. And thus program becomes collection of cooperating objects, rather than a list of \\ninstructions. Objects can store information and can interact with other objects, but each object has its own \\ndistinct, limited role. The class is a template from which objects are created, so it describes a collection \\nof variables and methods, and methods can be accessible to all other classes(public methods), and can be \\nrestricted access(private methods). We can make new classes that can be derived from there parent class,\\nthese derived classes have there inherit the attribute and behavior of the parent(inheritance). '"
      ]
     },
     "execution_count": 2,
     "metadata": {},
     "output_type": "execute_result"
    }
   ],
   "source": [
    "''' Object Oriented Programming is the latest programming paradigm. Which is a category to differentiate between\n",
    "programming languages and it is the most effected way to do that. The programmer need to describe both the \n",
    "data structures and the types of operations applied to those data structures. This piece of data with operations\n",
    "is known as object. And thus program becomes collection of cooperating objects, rather than a list of \n",
    "instructions. Objects can store information and can interact with other objects, but each object has its own \n",
    "distinct, limited role. The class is a template from which objects are created, so it describes a collection \n",
    "of variables and methods, and methods can be accessible to all other classes(public methods), and can be \n",
    "restricted access(private methods). We can make new classes that can be derived from there parent class,\n",
    "these derived classes have there inherit the attribute and behavior of the parent(inheritance). '''"
   ]
  },
  {
   "cell_type": "code",
   "execution_count": 3,
   "metadata": {},
   "outputs": [],
   "source": [
    "############################################################################################################"
   ]
  },
  {
   "cell_type": "code",
   "execution_count": 4,
   "metadata": {},
   "outputs": [],
   "source": [
    "##############################2222222222222222222222222222222222222222######################################"
   ]
  },
  {
   "cell_type": "code",
   "execution_count": 5,
   "metadata": {},
   "outputs": [
    {
     "data": {
      "text/plain": [
       "\"\\n1. ConfigurableModularity at Runtime (improved over most procedural languages, which offer \\nConfigurableModularity only at code-time) GateKeeper / CapabilitySecurityModel.\\n2. PolyMorphism increases expressiveness.\\n3. Makes software simpler\\n4. Increases cohesion\\n5. Encapsulation provides method (function) name-space management features that other paradigms either \\ndon't have, or is language-specific within those paradigms.\\n\""
      ]
     },
     "execution_count": 5,
     "metadata": {},
     "output_type": "execute_result"
    }
   ],
   "source": [
    "'''\n",
    "1. ConfigurableModularity at Runtime (improved over most procedural languages, which offer \n",
    "ConfigurableModularity only at code-time) GateKeeper / CapabilitySecurityModel.\n",
    "2. PolyMorphism increases expressiveness.\n",
    "3. Makes software simpler\n",
    "4. Increases cohesion\n",
    "5. Encapsulation provides method (function) name-space management features that other paradigms either \n",
    "don't have, or is language-specific within those paradigms.\n",
    "'''"
   ]
  },
  {
   "cell_type": "code",
   "execution_count": 6,
   "metadata": {},
   "outputs": [],
   "source": [
    "############################################################################################################"
   ]
  },
  {
   "cell_type": "code",
   "execution_count": null,
   "metadata": {},
   "outputs": [],
   "source": [
    "################################333333333333333333333333333333333333333#####################################"
   ]
  },
  {
   "cell_type": "code",
   "execution_count": 10,
   "metadata": {},
   "outputs": [
    {
     "data": {
      "text/plain": [
       "\"\\n\\nFunctions: are very popular in structured languages. They aren't dependant to anything and are independant.\\nThey may get somethings as input parameter, process them and finaly return some values. We can't say a \\nfunction is for that object.\\n\\nBut\\n\\nMethods: A method defined in a class, which operates on the class itself and can be called via the class \\nor any of its instances. They are popular in Object Oriented languages. they are dependant to a class. We \\ncan say a method is for that object.\\n\\n\""
      ]
     },
     "execution_count": 10,
     "metadata": {},
     "output_type": "execute_result"
    }
   ],
   "source": [
    "'''\n",
    "\n",
    "Functions: are very popular in structured languages. They aren't dependant to anything and are independant.\n",
    "They may get somethings as input parameter, process them and finaly return some values. We can't say a \n",
    "function is for that object.\n",
    "\n",
    "But\n",
    "\n",
    "Methods: A method defined in a class, which operates on the class itself and can be called via the class \n",
    "or any of its instances. They are popular in Object Oriented languages. they are dependant to a class. We \n",
    "can say a method is for that object.\n",
    "\n",
    "'''"
   ]
  },
  {
   "cell_type": "code",
   "execution_count": null,
   "metadata": {},
   "outputs": [],
   "source": [
    "############################################################################################################"
   ]
  },
  {
   "cell_type": "code",
   "execution_count": 8,
   "metadata": {},
   "outputs": [],
   "source": [
    "#####################################44444444444444444444444444444444444444444444###########################"
   ]
  },
  {
   "cell_type": "code",
   "execution_count": 11,
   "metadata": {},
   "outputs": [
    {
     "data": {
      "text/plain": [
       "'\\n\\nClass: The class is a template from which objects are created, so it describes a collection \\nof variables and methods, and methods can be accessible to all other classes(public methods), and can be \\nrestricted access(private methods). and classes can be derived from parent class.\\n\\nObject: A concrete instance of some class. Multiple objects that are instances of the same class have \\naccess to the same methods, but often have different values for their instance variables.\\n\\nAttribute: Attributes are the individual things that differentiate one object from another and determine \\nthe appearance, state, or other qualities of that object. Can be self learned from experiences came from \\nouter sources.\\n\\nBehavior: A class\\'s behavior determines how an instance of that class operates; for example, how it will \\n\"react\" if asked to do something by another class or object or if its internal state changes.Traits are \\ningrained behaviors that are mostly permanent and difficult to change.\\n\\n'"
      ]
     },
     "execution_count": 11,
     "metadata": {},
     "output_type": "execute_result"
    }
   ],
   "source": [
    "'''\n",
    "\n",
    "Class: The class is a template from which objects are created, so it describes a collection \n",
    "of variables and methods, and methods can be accessible to all other classes(public methods), and can be \n",
    "restricted access(private methods). and classes can be derived from parent class.\n",
    "\n",
    "Object: A concrete instance of some class. Multiple objects that are instances of the same class have \n",
    "access to the same methods, but often have different values for their instance variables.\n",
    "\n",
    "Attribute: Attributes are the individual things that differentiate one object from another and determine \n",
    "the appearance, state, or other qualities of that object. Can be self learned from experiences came from \n",
    "outer sources.\n",
    "\n",
    "Behavior: A class's behavior determines how an instance of that class operates; for example, how it will \n",
    "\"react\" if asked to do something by another class or object or if its internal state changes.Traits are \n",
    "ingrained behaviors that are mostly permanent and difficult to change.\n",
    "\n",
    "'''"
   ]
  },
  {
   "cell_type": "code",
   "execution_count": 12,
   "metadata": {},
   "outputs": [],
   "source": [
    "############################################################################################################"
   ]
  },
  {
   "cell_type": "code",
   "execution_count": 13,
   "metadata": {},
   "outputs": [],
   "source": [
    "###############################5555555555555555555555555555555555555555555555###############################"
   ]
  },
  {
   "cell_type": "code",
   "execution_count": 18,
   "metadata": {},
   "outputs": [],
   "source": [
    "class Car():\n",
    "    def __init__(self, model, color, name, horse_power, cylinder):\n",
    "        self.model = model\n",
    "        self.color = color\n",
    "        self.name = name\n",
    "        self.horse_power = horse_power\n",
    "        self.cylinder = cylinder\n",
    "    \n",
    "    def myfunc(self):\n",
    "        print(\"Hello my name is \" + self.name)\n",
    "    def myfunc(self):\n",
    "        print(\"Hello my model is \" + self.model)\n",
    "    def myfunc(self):\n",
    "        print(\"Hello my color is \" + self.color)"
   ]
  },
  {
   "cell_type": "code",
   "execution_count": null,
   "metadata": {},
   "outputs": [],
   "source": [
    "############################################################################################################"
   ]
  }
 ],
 "metadata": {
  "kernelspec": {
   "display_name": "Python 3",
   "language": "python",
   "name": "python3"
  },
  "language_info": {
   "codemirror_mode": {
    "name": "ipython",
    "version": 3
   },
   "file_extension": ".py",
   "mimetype": "text/x-python",
   "name": "python",
   "nbconvert_exporter": "python",
   "pygments_lexer": "ipython3",
   "version": "3.7.3"
  }
 },
 "nbformat": 4,
 "nbformat_minor": 2
}
