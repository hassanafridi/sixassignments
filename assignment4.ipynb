{
 "cells": [
  {
   "cell_type": "code",
   "execution_count": 20,
   "metadata": {},
   "outputs": [
    {
     "name": "stdout",
     "output_type": "stream",
     "text": [
      "first_name : Maviyya\n",
      "last_name : Mansoori\n",
      "age : 19\n",
      "city : Karachi\n"
     ]
    }
   ],
   "source": [
    "#######1111111111111111111############\n",
    "\n",
    "\n",
    "\n",
    "Mav = {\"first_name\" : \"Maviyya\", \"last_name\" : \"Mansoori\", \"age\" : 19, \"city\" : \"Karachi\"}\n",
    "\n",
    "for a in Mav: print(a,\":\",Mav[a])"
   ]
  },
  {
   "cell_type": "code",
   "execution_count": 21,
   "metadata": {},
   "outputs": [
    {
     "data": {
      "text/plain": [
       "{'first_name': 'Maviyya',\n",
       " 'last_name': 'Mansoori',\n",
       " 'age': 19,\n",
       " 'city': 'Karachi',\n",
       " 'qualification': 'Intermediate'}"
      ]
     },
     "execution_count": 21,
     "metadata": {},
     "output_type": "execute_result"
    }
   ],
   "source": [
    "Mav.update({\"qualification\":\"Intermediate\"})\n",
    "Mav"
   ]
  },
  {
   "cell_type": "code",
   "execution_count": 22,
   "metadata": {},
   "outputs": [
    {
     "data": {
      "text/plain": [
       "{'first_name': 'Maviyya',\n",
       " 'last_name': 'Mansoori',\n",
       " 'age': 19,\n",
       " 'city': 'Karachi',\n",
       " 'qualification': 'undergraduation'}"
      ]
     },
     "execution_count": 22,
     "metadata": {},
     "output_type": "execute_result"
    }
   ],
   "source": [
    "Mav.update({\"qualification\":\"undergraduation\"})\n",
    "Mav"
   ]
  },
  {
   "cell_type": "code",
   "execution_count": 4,
   "metadata": {},
   "outputs": [
    {
     "data": {
      "text/plain": [
       "{'first_name': 'Maviyya',\n",
       " 'last_name': 'Mansoori',\n",
       " 'age': 19,\n",
       " 'city': 'Karachi'}"
      ]
     },
     "execution_count": 4,
     "metadata": {},
     "output_type": "execute_result"
    }
   ],
   "source": [
    "del Mav[\"qualification\"]\n",
    "Mav\n"
   ]
  },
  {
   "cell_type": "code",
   "execution_count": 5,
   "metadata": {},
   "outputs": [],
   "source": [
    "####################################################################################\n"
   ]
  },
  {
   "cell_type": "code",
   "execution_count": 23,
   "metadata": {},
   "outputs": [
    {
     "name": "stdout",
     "output_type": "stream",
     "text": [
      "Karachi  : \n",
      "\t Karachi  :  Pakistan\n",
      "\t Karachi  :  2165.5 million\n",
      "\t Karachi  :  Karachi; is the capital of Sindh province in Pakistan.\n",
      "Sydney  : \n",
      "\t Sydney  :  Australia\n",
      "\t Sydney  :  5.23 million\n",
      "\t Sydney  :  Sydney is 1580 square kilometres across, which is more than double New York\n",
      "Melbourne  : \n",
      "\t Melbourne  :  Australia\n",
      "\t Melbourne  :  4.936 million\n",
      "\t Melbourne  :  The city is known for its many laneways\n"
     ]
    }
   ],
   "source": [
    "#####################2222222222222222222222222222222222222222222##############################\n",
    "\n",
    "cities={\n",
    "    \"Karachi\":{\n",
    "        \"Country\":\"Pakistan\",\n",
    "        \"Population\":\"2165.5 million\",\n",
    "        \"Fact\":\"Karachi; is the capital of Sindh province in Pakistan.\"},\n",
    "    \"Sydney\":{\n",
    "        \"Country\":\"Australia\",\n",
    "        \"Population\":\"5.23 million\",\n",
    "        \"Fact\":\"Sydney is 1580 square kilometres across, which is more than double New York\"},\n",
    "    \"Melbourne\":{\n",
    "        \"Country\":\"Australia\",\n",
    "        \"Population\":\"4.936 million\",\n",
    "        \"Fact\":\"The city is known for its many laneways\"}}\n",
    "cities\n",
    "for b in cities:\n",
    "    print(b,\" : \")\n",
    "    for c in cities[b]:\n",
    "        print(\"\\t\",b,\" : \",cities[b][c])"
   ]
  },
  {
   "cell_type": "code",
   "execution_count": 7,
   "metadata": {},
   "outputs": [],
   "source": [
    "###################################################################################################"
   ]
  },
  {
   "cell_type": "code",
   "execution_count": 1,
   "metadata": {},
   "outputs": [
    {
     "name": "stdout",
     "output_type": "stream",
     "text": [
      "To close program enter 0\n",
      "Enter your Age : 12\n",
      "The cost for your ticket is $10\n",
      "Enter your Age : 556\n",
      "Enter your Age : 0\n",
      "The tickets are free for children under 3 year\n"
     ]
    }
   ],
   "source": [
    "################################3333333333333333333333333333333333##################################\n",
    "\n",
    "Age=-1\n",
    "print(\"To close program enter 0\")\n",
    "while Age:\n",
    "    \n",
    "    Age=int(input(\"Enter your Age : \"))\n",
    "    Age=int(Age)\n",
    "    if Age<3:\n",
    "        print(\"The tickets are free for children under 3 year\")\n",
    "    elif Age>=3 and Age<=12:\n",
    "        print(\"The cost for your ticket is $10\")\n",
    "    elif Age>12 and Age<=200:\n",
    "        print(\"The cost for your ticket is $15\")\n",
    "        "
   ]
  },
  {
   "cell_type": "code",
   "execution_count": 0,
   "metadata": {},
   "outputs": [],
   "source": [
    "###################################################################################################"
   ]
  },
  {
   "cell_type": "code",
   "execution_count": 0,
   "metadata": {},
   "outputs": [],
   "source": [
    "###############################44444444444444444444444444444####################################\n",
    "\n",
    "def favorite_book(title):\n",
    "    return \"One of my favourite book is \"+title\n",
    "\n",
    "print(favorite_book(\"Eric R. Johnston, Nic Harrigan, Mercedes Gimeno-Segovia - Programming Quantum Computers_ Essential Algorithms and Code Samples-O’Reilly Media.\"))"
   ]
  },
  {
   "cell_type": "code",
   "execution_count": 0,
   "metadata": {},
   "outputs": [],
   "source": [
    "###################################################################################################"
   ]
  },
  {
   "cell_type": "code",
   "execution_count": 0,
   "metadata": {},
   "outputs": [],
   "source": [
    "#################################555555555555555555555555555555555#################################\n",
    "\n",
    "random_number = random.randrange(1,30)\n",
    "win = 0\n",
    "for n in range(3):\n",
    "    guess=int(input(\"Give your guess for random number : \"))\n",
    "    if guess == rnum:\n",
    "        print(\"You figured out right Number\")\n",
    "        win = 1\n",
    "        break\n",
    "    elif guess>rnum:\n",
    "      print(\"Your Guess is not matched Number\")\n",
    "    elif guess<rnum:\n",
    "      print(\"Your Guess is not matched Number\")\n",
    "if win != 1:\n",
    "    print(\"K.O.\", \"You Loose\")\n"
   ]
  },
  {
   "cell_type": "code",
   "execution_count": null,
   "metadata": {},
   "outputs": [],
   "source": []
  }
 ],
 "metadata": {
  "kernelspec": {
   "display_name": "Python 3",
   "language": "python",
   "name": "python3"
  },
  "language_info": {
   "codemirror_mode": {
    "name": "ipython",
    "version": 3
   },
   "file_extension": ".py",
   "mimetype": "text/x-python",
   "name": "python",
   "nbconvert_exporter": "python",
   "pygments_lexer": "ipython3",
   "version": "3.7.3"
  }
 },
 "nbformat": 4,
 "nbformat_minor": 2
}
